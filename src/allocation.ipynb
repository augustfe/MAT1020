{
 "cells": [
  {
   "cell_type": "code",
   "execution_count": 19,
   "metadata": {},
   "outputs": [],
   "source": [
    "import os\n",
    "import pandas as pd\n",
    "import numpy as np\n",
    "from scipy import optimize\n",
    "from pathlib import Path\n",
    "from pandas import DataFrame"
   ]
  },
  {
   "cell_type": "code",
   "execution_count": 20,
   "metadata": {},
   "outputs": [],
   "source": [
    "curr_file = os.path.abspath(\".\")\n",
    "data_dir = Path(curr_file).parent / \"data\"\n",
    "figure_dir = Path(curr_file).parent / \"figures\"\n",
    "figure_dir.mkdir(exist_ok=True)\n",
    "\n",
    "raw_solar = pd.read_csv(\n",
    "    data_dir / \"solar_daily_2014-2019.csv\", parse_dates=[\"time\"], index_col=\"time\"\n",
    ")\n",
    "wind = pd.read_csv(\n",
    "    data_dir / \"onshore_daily_2014-20.csv\", parse_dates=[\"time\"], index_col=\"time\"\n",
    ")"
   ]
  },
  {
   "cell_type": "markdown",
   "metadata": {},
   "source": [
    "**We adjust the solar capacities to representative daily values.**"
   ]
  },
  {
   "cell_type": "code",
   "execution_count": 21,
   "metadata": {},
   "outputs": [],
   "source": [
    "solar = raw_solar / 4"
   ]
  },
  {
   "cell_type": "code",
   "execution_count": 22,
   "metadata": {},
   "outputs": [],
   "source": [
    "def objective_func(\n",
    "    w: np.ndarray, C: np.ndarray, E_demand: float, r: np.ndarray\n",
    ") -> float:\n",
    "    \"\"\"Quadprog function to minimize. This function is the objective function for the quadratic programming problem.\n",
    "\n",
    "    Args:\n",
    "        w (np.ndarray): Weights of the installed capacity\n",
    "        C (np.ndarray): Covariance matrix of the locations\n",
    "        E_demand (float): Expected demand\n",
    "        r (np.ndarray): Expected capacity factors of the locations\n",
    "\n",
    "    Returns:\n",
    "        float: The value of the objective function\n",
    "    \"\"\"\n",
    "    return w.T @ C @ w + (w @ r - E_demand) ** 2\n",
    "\n",
    "\n",
    "def quadprog(X: DataFrame, E_demand: float) -> tuple[np.ndarray, float]:\n",
    "    \"\"\"Find the optimal weights for the installed capacity using quadratic programming.\n",
    "\n",
    "    Args:\n",
    "        X (DataFrame): DataFrame of the capacity factors of the locations\n",
    "        E_demand (float): Expected demand\n",
    "\n",
    "    Returns:\n",
    "        np.ndarray: Weights of the installed capacity\n",
    "    \"\"\"\n",
    "    C = X.cov().to_numpy()\n",
    "    r = X.mean()\n",
    "    n = len(C)\n",
    "\n",
    "    # Set random seed to ensure reproducibility\n",
    "    np.random.seed(42)\n",
    "    x0 = np.random.rand(n)\n",
    "\n",
    "    # Constrain w to be greater than 0\n",
    "    bounds = [(0, None) for i in range(n)]\n",
    "\n",
    "    results = optimize.minimize(\n",
    "        objective_func,\n",
    "        x0,\n",
    "        args=(C, E_demand, r),\n",
    "        bounds=bounds,\n",
    "    )\n",
    "    w = results.x\n",
    "\n",
    "    L = objective_func(w, C, E_demand, r)\n",
    "\n",
    "    return w, L\n",
    "\n",
    "\n",
    "def array_to_LaTeX(X, x: np.ndarray) -> str:\n",
    "    df = pd.DataFrame(x, index=X.columns)\n",
    "    df.loc[\"Total\", :] = df.sum()\n",
    "    TeX = df.to_latex(header=False, float_format=\"%.2f\")\n",
    "    # values = TeX.split(\"\\n\")[3:-3]\n",
    "    # bmatrix = \"\\\\begin{bmatrix}\\n\" + \"\\n\".join(values) + \"\\n\\\\end{bmatrix}\"\n",
    "    return TeX"
   ]
  },
  {
   "cell_type": "markdown",
   "metadata": {},
   "source": [
    "Expected demand of solar energy is $\\hat{\\mu}_E = 100 \\text{GWh}$."
   ]
  },
  {
   "cell_type": "code",
   "execution_count": 23,
   "metadata": {},
   "outputs": [
    {
     "name": "stdout",
     "output_type": "stream",
     "text": [
      "\\begin{tabular}{lr}\n",
      "\\toprule\n",
      "\\midrule\n",
      "Rome & 206.45 \\\\\n",
      "Berlin & 0.00 \\\\\n",
      "London & 20.19 \\\\\n",
      "Paris & 0.22 \\\\\n",
      "Madrid & 164.99 \\\\\n",
      "Athens & 291.34 \\\\\n",
      "Oslo & 0.00 \\\\\n",
      "Total & 683.19 \\\\\n",
      "\\bottomrule\n",
      "\\end{tabular}\n",
      "\n",
      "Minimal production variance is 427.38\n"
     ]
    }
   ],
   "source": [
    "var_std_str = \"Minimal production variance is {:.2f}\"\n",
    "\n",
    "w, L = quadprog(solar, 100)\n",
    "print(array_to_LaTeX(solar, w))\n",
    "\n",
    "print(var_std_str.format(L))"
   ]
  },
  {
   "cell_type": "markdown",
   "metadata": {},
   "source": [
    "Expected demand for wind energy in Norway is $\\hat{\\mu}_E = 1 \\text{GWh} = 1 000 \\text{MWh}$."
   ]
  },
  {
   "cell_type": "code",
   "execution_count": 24,
   "metadata": {},
   "outputs": [
    {
     "name": "stdout",
     "output_type": "stream",
     "text": [
      "\\begin{tabular}{lr}\n",
      "\\toprule\n",
      "\\midrule\n",
      "Utsira Nord & 0.29 \\\\\n",
      "Sørlige Nordsjø II & 0.65 \\\\\n",
      "Midtfjellet & 0.00 \\\\\n",
      "Havøygavlen & 0.59 \\\\\n",
      "Total & 1.53 \\\\\n",
      "\\bottomrule\n",
      "\\end{tabular}\n",
      "\n",
      "Minimal production variance is 0.14\n"
     ]
    }
   ],
   "source": [
    "w, L = quadprog(wind, 1)\n",
    "print(array_to_LaTeX(wind, w))\n",
    "\n",
    "print(var_std_str.format(L))"
   ]
  },
  {
   "cell_type": "code",
   "execution_count": 25,
   "metadata": {},
   "outputs": [
    {
     "name": "stdout",
     "output_type": "stream",
     "text": [
      "\\begin{tabular}{lr}\n",
      "\\toprule\n",
      "\\midrule\n",
      "Utsira Nord & 291.66 \\\\\n",
      "Sørlige Nordsjø II & 651.48 \\\\\n",
      "Midtfjellet & 0.00 \\\\\n",
      "Havøygavlen & 591.07 \\\\\n",
      "Total & 1534.20 \\\\\n",
      "\\bottomrule\n",
      "\\end{tabular}\n",
      "\n",
      "Minimal production variance is 138202.63\n"
     ]
    }
   ],
   "source": [
    "w, L = quadprog(wind, 1000)\n",
    "print(array_to_LaTeX(wind, w))\n",
    "\n",
    "print(var_std_str.format(L))"
   ]
  },
  {
   "cell_type": "code",
   "execution_count": 61,
   "metadata": {},
   "outputs": [],
   "source": [
    "def single_objective_func(w: np.ndarray, v: float, E_demand: float, r: float) -> float:\n",
    "    return w * v * w + (w * r - E_demand) ** 2\n",
    "\n",
    "\n",
    "def single_installement(X: DataFrame, E_demand: float) -> tuple[np.ndarray, float]:\n",
    "    \"\"\"Calculate the variance per location.\n",
    "\n",
    "    Args:\n",
    "        X (DataFrame): DataFrame of the capacity factors of the locations\n",
    "        E_demand (float): Expected demand\n",
    "\n",
    "    Returns:\n",
    "        np.ndarray: Variance per location\n",
    "    \"\"\"\n",
    "\n",
    "    V = X.var().to_numpy()\n",
    "    r = X.mean().to_numpy()\n",
    "    x0 = np.random.rand(V.size)\n",
    "    opt_w = np.zeros(V.size)\n",
    "    single_res = np.zeros(V.size)\n",
    "\n",
    "    for i, (v, r_, x0_) in enumerate(zip(V, r, x0)):\n",
    "        bounds = [(0, None)]\n",
    "        results = optimize.minimize(\n",
    "            single_objective_func,\n",
    "            x0_,\n",
    "            args=(v, E_demand, r_),\n",
    "            bounds=bounds,\n",
    "        )\n",
    "        opt_w[i] = results.x.item()\n",
    "        single_res[i] = results.fun\n",
    "\n",
    "    df = pd.DataFrame(\n",
    "        {\"Production variance\": single_res, \"Installed capacity\": opt_w},\n",
    "        index=X.columns,\n",
    "    )\n",
    "\n",
    "    return df\n",
    "\n",
    "\n",
    "def var_per_location_to_LaTeX(X: DataFrame, E_demand: float) -> str:\n",
    "    df = single_installement(X, E_demand)\n",
    "    _, L = quadprog(X, E_demand)\n",
    "\n",
    "    percent_red = (1 - L / df[\"Production variance\"].min()) * 100\n",
    "\n",
    "    print(f\"Reduction is {percent_red:.2f}% from multi-location.\")\n",
    "\n",
    "    TeX = df.to_latex(float_format=\"%.2f\")\n",
    "    return TeX"
   ]
  },
  {
   "cell_type": "code",
   "execution_count": 62,
   "metadata": {},
   "outputs": [
    {
     "name": "stdout",
     "output_type": "stream",
     "text": [
      "Reduction is 41.89% from multi-location.\n",
      "\\begin{tabular}{lrr}\n",
      "\\toprule\n",
      " & Production variance & Installed capacity \\\\\n",
      "\\midrule\n",
      "Rome & 909.23 & 658.45 \\\\\n",
      "Berlin & 2355.29 & 778.94 \\\\\n",
      "London & 2383.43 & 792.02 \\\\\n",
      "Paris & 2210.35 & 726.85 \\\\\n",
      "Madrid & 881.24 & 609.82 \\\\\n",
      "Athens & 735.50 & 665.02 \\\\\n",
      "Oslo & 3294.55 & 767.10 \\\\\n",
      "\\bottomrule\n",
      "\\end{tabular}\n",
      "\n"
     ]
    }
   ],
   "source": [
    "TeX = var_per_location_to_LaTeX(solar, 100)\n",
    "print(TeX)"
   ]
  },
  {
   "cell_type": "code",
   "execution_count": 63,
   "metadata": {},
   "outputs": [
    {
     "name": "stdout",
     "output_type": "stream",
     "text": [
      "Reduction is 29.14% from multi-location.\n",
      "\\begin{tabular}{lrr}\n",
      "\\toprule\n",
      " & Production variance & Installed capacity \\\\\n",
      "\\midrule\n",
      "Utsira Nord & 0.25 & 1.31 \\\\\n",
      "Sørlige Nordsjø II & 0.20 & 1.26 \\\\\n",
      "Midtfjellet & 0.55 & 1.87 \\\\\n",
      "Havøygavlen & 0.31 & 1.47 \\\\\n",
      "\\bottomrule\n",
      "\\end{tabular}\n",
      "\n"
     ]
    }
   ],
   "source": [
    "TeX = var_per_location_to_LaTeX(wind, 1)\n",
    "print(TeX)"
   ]
  },
  {
   "cell_type": "code",
   "execution_count": 50,
   "metadata": {},
   "outputs": [],
   "source": [
    "W = np.diag(opt_w)\n",
    "C = solar.cov().to_numpy()\n",
    "r = solar.mean().to_numpy()\n",
    "vec_objective_func = np.vectorize(\n",
    "    lambda W: objective_func(W, C, 100, r), signature=\"(n)->()\"\n",
    ")\n",
    "prod_variance = vec_objective_func(W)"
   ]
  },
  {
   "cell_type": "code",
   "execution_count": 51,
   "metadata": {},
   "outputs": [
    {
     "data": {
      "text/plain": [
       "array([ 909.22711306, 2355.29451088, 2383.43040721, 2210.35492799,\n",
       "        881.24054192,  735.50385809, 3294.55154983])"
      ]
     },
     "execution_count": 51,
     "metadata": {},
     "output_type": "execute_result"
    }
   ],
   "source": [
    "prod_variance"
   ]
  },
  {
   "cell_type": "code",
   "execution_count": 52,
   "metadata": {},
   "outputs": [
    {
     "data": {
      "text/plain": [
       "array([90.90771772, 76.44705354, 76.16571103, 77.89644926, 91.18759466,\n",
       "       92.64496236, 67.05453177])"
      ]
     },
     "execution_count": 52,
     "metadata": {},
     "output_type": "execute_result"
    }
   ],
   "source": [
    "opt_w * r"
   ]
  },
  {
   "cell_type": "code",
   "execution_count": null,
   "metadata": {},
   "outputs": [],
   "source": []
  }
 ],
 "metadata": {
  "kernelspec": {
   "display_name": "mat1020",
   "language": "python",
   "name": "python3"
  },
  "language_info": {
   "codemirror_mode": {
    "name": "ipython",
    "version": 3
   },
   "file_extension": ".py",
   "mimetype": "text/x-python",
   "name": "python",
   "nbconvert_exporter": "python",
   "pygments_lexer": "ipython3",
   "version": "3.12.2"
  }
 },
 "nbformat": 4,
 "nbformat_minor": 2
}
